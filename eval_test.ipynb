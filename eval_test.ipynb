{
 "cells": [
  {
   "cell_type": "code",
   "execution_count": 1,
   "id": "886f5154",
   "metadata": {},
   "outputs": [],
   "source": [
    "import pickle"
   ]
  },
  {
   "cell_type": "code",
   "execution_count": 2,
   "id": "e6c61a54",
   "metadata": {},
   "outputs": [],
   "source": [
    "with open(\"../outputs.pickle\", 'rb') as file1:         \n",
    "    outputs=pickle.load(file1)\n",
    "    \n",
    "    \n",
    "    \n",
    "with open(\"../results.pickle\", 'rb') as file1:         \n",
    "    results=pickle.load(file1)\n",
    "\n",
    "\n",
    "with open(\"../pairs.pickle\", 'rb') as file1:         \n",
    "    pairs=pickle.load(file1)"
   ]
  },
  {
   "cell_type": "code",
   "execution_count": 9,
   "id": "cd067ea2",
   "metadata": {},
   "outputs": [
    {
     "data": {
      "text/plain": [
       "[{'input_idx': 0,\n",
       "  'task_prompt': ('approaching deadline', 'home'),\n",
       "  'model_1': 'aam',\n",
       "  'output1': '**Intervention: The 25-Minute Focus Technique**\\n\\n1. **Set Up Your Space**: Find a quiet area in your home where you can work without distractions. Gather all necessary materials related to your task.\\n\\n2. **Time Block**: Use a timer to set a 25-minute countdown. This is your focused work period.\\n\\n3. **Prioritize Tasks**: Before starting the timer, quickly jot down the specific tasks you need to accomplish related to the deadline. Choose the most critical task to focus on during this session.\\n\\n4. **Work Intensively**: During the 25 minutes, concentrate solely on the chosen task. Avoid checking your phone, emails, or any other distractions.\\n\\n5. **Take a Break**: Once the timer goes off, take a 5-minute break. Stand up, stretch, hydrate, or take a few deep breaths to reset your mind.\\n\\n6. **Repeat**: After the break, assess your progress. If you feel productive, set another 25-minute block for the next task or continue with the same one if it’s not finished.\\n\\n7. **Reflect**: At the end of your work session (after 2-3 cycles), take a moment to reflect on what you accomplished. Acknowledge your progress to boost motivation.\\n\\nThis technique helps manage stress by breaking down the workload into manageable chunks, allowing for focused effort and regular breaks to prevent burnout.',\n",
       "  'model_2': 'bam',\n",
       "  'output2': 'Here\\'s a practical and effective stress intervention for a person experiencing stress caused by an approaching deadline while at home:\\n\\n**Intervention: \"Deadline Dash\"**\\n\\n**Duration:** 15-20 minutes\\n\\n**Objective:** To help the individual manage stress caused by an approaching deadline and increase productivity while working from home.\\n\\n**Step-by-Step Instructions:**\\n\\n1. **Take a 2-minute break**: Stop what you\\'re doing and take a short break to stretch, move around, and clear your mind.\\n2. **Set a timer**: Set a timer for 25 minutes (use a traditional timer or a phone app).\\n3. **Work in focused intervals**: Work on the task at hand without any distractions during the 25-minute interval. Take short breaks to stretch or move around if needed.\\n4. **Take a 5-minute break**: When the timer goes off, take a 5-minute break to relax and recharge. Do something enjoyable, like taking a few deep breaths, sipping water, or reading a funny meme.\\n5. **Repeat the cycle**: Repeat steps 2-4 for a total of 3-4 cycles, depending on how much work needs to be done.\\n6. **Review and adjust**: After the final cycle, review your progress and adjust your plan as needed. If you\\'re still feeling overwhelmed, consider delegating tasks or seeking help from a colleague or friend.\\n\\n**Why it works:**\\n\\n* The timer helps create a sense of structure and focus, allowing you to work in short, manageable intervals.\\n* The regular breaks help you recharge and reduce stress, preventing burnout.\\n* The \"Deadline Dash\" intervention is concise, easy to implement, and directly addresses the stressor (approaching deadline).\\n\\n**Tips and Variations:**\\n\\n* Use a Pomodoro timer app or website to help you stay on track.\\n* Adjust the length of your work intervals and breaks based on your individual needs and work style.\\n* Consider incorporating stretching or movement exercises during your breaks to increase blood flow and reduce tension.\\n* If you\\'re feeling stuck or overwhelmed, try breaking down the task into smaller, more manageable chunks.\\n\\nBy following the \"Deadline Dash\" intervention, you can effectively manage stress caused by an approaching deadline while working from home, increase productivity, and maintain a sense of control and well-being.'},\n",
       " {'input_idx': 0,\n",
       "  'task_prompt': ('approaching deadline', 'home'),\n",
       "  'model_1': 'aam',\n",
       "  'output1': '**Intervention: The 25-Minute Focus Technique**\\n\\n1. **Set Up Your Space**: Find a quiet area in your home where you can work without distractions. Gather all necessary materials related to your task.\\n\\n2. **Time Block**: Use a timer to set a 25-minute countdown. This is your focused work period.\\n\\n3. **Prioritize Tasks**: Before starting the timer, quickly jot down the specific tasks you need to accomplish related to the deadline. Choose the most critical task to focus on during this session.\\n\\n4. **Work Intensively**: During the 25 minutes, concentrate solely on the chosen task. Avoid checking your phone, emails, or any other distractions.\\n\\n5. **Take a Break**: Once the timer goes off, take a 5-minute break. Stand up, stretch, hydrate, or take a few deep breaths to reset your mind.\\n\\n6. **Repeat**: After the break, assess your progress. If you feel productive, set another 25-minute block for the next task or continue with the same one if it’s not finished.\\n\\n7. **Reflect**: At the end of your work session (after 2-3 cycles), take a moment to reflect on what you accomplished. Acknowledge your progress to boost motivation.\\n\\nThis technique helps manage stress by breaking down the workload into manageable chunks, allowing for focused effort and regular breaks to prevent burnout.',\n",
       "  'model_2': 'cam',\n",
       "  'output2': \"As a stress intervention specialist, here's a practical and effective intervention for someone experiencing stress due to an approaching deadline while at home:\\n\\nTime-Blocking and Prioritization Exercise:\\n\\n1. Take a deep breath and grab a piece of paper or open a digital note.\\n\\n2. Write down the deadline and the remaining time available.\\n\\n3. List all tasks needed to meet the deadline.\\n\\n4. Prioritize these tasks using the Eisenhower Matrix:\\n   - Urgent and Important\\n   - Important but Not Urgent\\n   - Urgent but Not Important\\n   - Neither Urgent nor Important\\n\\n5. Allocate specific time blocks to the urgent and important tasks.\\n\\n6. Remove or delegate tasks that are neither urgent nor important.\\n\\n7. Take a 5-minute break to reset your mind.\\n\\n8. Start working on the highest priority task immediately.\\n\\nThis intervention helps regain control over the situation, reduces overwhelming feelings, and creates a clear action plan to address the approaching deadline effectively.\"},\n",
       " {'input_idx': 0,\n",
       "  'task_prompt': ('approaching deadline', 'home'),\n",
       "  'model_1': 'bam',\n",
       "  'output1': 'Here\\'s a practical and effective stress intervention for a person experiencing stress caused by an approaching deadline while at home:\\n\\n**Intervention: \"Deadline Dash\"**\\n\\n**Duration:** 15-20 minutes\\n\\n**Objective:** To help the individual manage stress caused by an approaching deadline and increase productivity while working from home.\\n\\n**Step-by-Step Instructions:**\\n\\n1. **Take a 2-minute break**: Stop what you\\'re doing and take a short break to stretch, move around, and clear your mind.\\n2. **Set a timer**: Set a timer for 25 minutes (use a traditional timer or a phone app).\\n3. **Work in focused intervals**: Work on the task at hand without any distractions during the 25-minute interval. Take short breaks to stretch or move around if needed.\\n4. **Take a 5-minute break**: When the timer goes off, take a 5-minute break to relax and recharge. Do something enjoyable, like taking a few deep breaths, sipping water, or reading a funny meme.\\n5. **Repeat the cycle**: Repeat steps 2-4 for a total of 3-4 cycles, depending on how much work needs to be done.\\n6. **Review and adjust**: After the final cycle, review your progress and adjust your plan as needed. If you\\'re still feeling overwhelmed, consider delegating tasks or seeking help from a colleague or friend.\\n\\n**Why it works:**\\n\\n* The timer helps create a sense of structure and focus, allowing you to work in short, manageable intervals.\\n* The regular breaks help you recharge and reduce stress, preventing burnout.\\n* The \"Deadline Dash\" intervention is concise, easy to implement, and directly addresses the stressor (approaching deadline).\\n\\n**Tips and Variations:**\\n\\n* Use a Pomodoro timer app or website to help you stay on track.\\n* Adjust the length of your work intervals and breaks based on your individual needs and work style.\\n* Consider incorporating stretching or movement exercises during your breaks to increase blood flow and reduce tension.\\n* If you\\'re feeling stuck or overwhelmed, try breaking down the task into smaller, more manageable chunks.\\n\\nBy following the \"Deadline Dash\" intervention, you can effectively manage stress caused by an approaching deadline while working from home, increase productivity, and maintain a sense of control and well-being.',\n",
       "  'model_2': 'cam',\n",
       "  'output2': \"As a stress intervention specialist, here's a practical and effective intervention for someone experiencing stress due to an approaching deadline while at home:\\n\\nTime-Blocking and Prioritization Exercise:\\n\\n1. Take a deep breath and grab a piece of paper or open a digital note.\\n\\n2. Write down the deadline and the remaining time available.\\n\\n3. List all tasks needed to meet the deadline.\\n\\n4. Prioritize these tasks using the Eisenhower Matrix:\\n   - Urgent and Important\\n   - Important but Not Urgent\\n   - Urgent but Not Important\\n   - Neither Urgent nor Important\\n\\n5. Allocate specific time blocks to the urgent and important tasks.\\n\\n6. Remove or delegate tasks that are neither urgent nor important.\\n\\n7. Take a 5-minute break to reset your mind.\\n\\n8. Start working on the highest priority task immediately.\\n\\nThis intervention helps regain control over the situation, reduces overwhelming feelings, and creates a clear action plan to address the approaching deadline effectively.\"}]"
      ]
     },
     "execution_count": 9,
     "metadata": {},
     "output_type": "execute_result"
    }
   ],
   "source": [
    "pairs"
   ]
  },
  {
   "cell_type": "code",
   "execution_count": 9,
   "id": "93ab170b",
   "metadata": {},
   "outputs": [],
   "source": [
    "# results"
   ]
  },
  {
   "cell_type": "code",
   "execution_count": 1,
   "id": "7f4ef79c",
   "metadata": {},
   "outputs": [],
   "source": [
    "import pandas as pd"
   ]
  },
  {
   "cell_type": "code",
   "execution_count": 2,
   "id": "dd829dce",
   "metadata": {},
   "outputs": [],
   "source": [
    "stressor_df=pd.read_csv(\"../curated_stressors_count.csv\")"
   ]
  },
  {
   "cell_type": "code",
   "execution_count": null,
   "id": "8eda2faf",
   "metadata": {},
   "outputs": [],
   "source": []
  }
 ],
 "metadata": {
  "kernelspec": {
   "display_name": "Python 3",
   "language": "python",
   "name": "python3"
  },
  "language_info": {
   "codemirror_mode": {
    "name": "ipython",
    "version": 3
   },
   "file_extension": ".py",
   "mimetype": "text/x-python",
   "name": "python",
   "nbconvert_exporter": "python",
   "pygments_lexer": "ipython3",
   "version": "3.10.6"
  }
 },
 "nbformat": 4,
 "nbformat_minor": 5
}
